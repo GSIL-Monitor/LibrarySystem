{
 "cells": [
  {
   "cell_type": "code",
   "execution_count": 1,
   "metadata": {},
   "outputs": [],
   "source": [
    "import sys\n",
    "sys.path.append('../tools/')"
   ]
  },
  {
   "cell_type": "code",
   "execution_count": 2,
   "metadata": {},
   "outputs": [],
   "source": [
    "from tabchen_utils import *"
   ]
  },
  {
   "cell_type": "code",
   "execution_count": 3,
   "metadata": {},
   "outputs": [],
   "source": [
    "# 打开数据库连接\n",
    "db = myMysql(\"localhost\",3306,\"LibrarySystem\",\"root\",\"12345678\")"
   ]
  },
  {
   "cell_type": "code",
   "execution_count": 16,
   "metadata": {
    "scrolled": true
   },
   "outputs": [
    {
     "name": "stdout",
     "output_type": "stream",
     "text": [
      "SELECT * FROM userdb where username ='tabchen' and password='tabchen'\n"
     ]
    }
   ],
   "source": [
    "# quary = 'select * from userdb'\n",
    "username = 'tabchen'\n",
    "password = 'tabchen'\n",
    "quary = \"SELECT * FROM userdb where username ='{}' and password='{}'\".format(username,password)\n",
    "# quary = \"SELECT * FROM LibrarySystem.userdb where username ='tabchen' and password='tabchen';\"\n",
    "print(quary)\n",
    "result = db.execute(quary)"
   ]
  },
  {
   "cell_type": "code",
   "execution_count": 54,
   "metadata": {},
   "outputs": [],
   "source": [
    "class SystemTools():\n",
    "    def __init__(self):\n",
    "        self.db = myMysql(\"localhost\",3306,\"LibrarySystem\",\"root\",\"12345678\")\n",
    "    def login(self,username,password):\n",
    "        quary = \"SELECT * FROM userdb where username ='{}' and password='{}'\".format(username,password)\n",
    "        result = self.db.execute(quary)\n",
    "        if len(result)==0:\n",
    "            return False\n",
    "        else:\n",
    "            return True        \n",
    "    def regist(self,username,password):\n",
    "        quary = \"SELECT * FROM userdb where username ='{}'\".format(username)\n",
    "        result = self.db.execute(quary)\n",
    "        if len(result)!=0:\n",
    "            print('User name exist!')\n",
    "            return False\n",
    "        else:\n",
    "            quary = \"INSERT INTO `userdb` (`username`, `password`) VALUES ('{}', '{}')\".format(username,password)\n",
    "            result = self.db.execute(quary)\n",
    "            return True\n",
    "    def changePassword(self,username,old_password,new_password):\n",
    "        login_result = self.login(username,old_password)\n",
    "        if login_result:\n",
    "            quary = \"UPDATE `userdb` SET `password`='{}' WHERE `username`='{}';\".format(new_password,username)\n",
    "            result = self.db.execute(quary)\n",
    "            return True\n",
    "        else:\n",
    "            print('原始密码错误')\n",
    "            return False\n",
    "        \n",
    "        \n",
    "my_tools = SystemTools()"
   ]
  },
  {
   "cell_type": "code",
   "execution_count": 55,
   "metadata": {
    "scrolled": true
   },
   "outputs": [
    {
     "data": {
      "text/plain": [
       "True"
      ]
     },
     "execution_count": 55,
     "metadata": {},
     "output_type": "execute_result"
    }
   ],
   "source": [
    "my_tools.login('tabchen1','tabchen')"
   ]
  },
  {
   "cell_type": "code",
   "execution_count": 60,
   "metadata": {},
   "outputs": [
    {
     "data": {
      "text/plain": [
       "True"
      ]
     },
     "execution_count": 60,
     "metadata": {},
     "output_type": "execute_result"
    }
   ],
   "source": [
    "my_tools.regist('love','love')"
   ]
  },
  {
   "cell_type": "code",
   "execution_count": 59,
   "metadata": {},
   "outputs": [
    {
     "name": "stdout",
     "output_type": "stream",
     "text": [
      "原始密码错误\n"
     ]
    },
    {
     "data": {
      "text/plain": [
       "False"
      ]
     },
     "execution_count": 59,
     "metadata": {},
     "output_type": "execute_result"
    }
   ],
   "source": [
    "my_tools.changePassword('tabchen1','tabchen2','tabchen2')"
   ]
  },
  {
   "cell_type": "code",
   "execution_count": null,
   "metadata": {},
   "outputs": [],
   "source": [
    "def regist(username,passwd):\n",
    "    pass\n",
    "def login(ursename,passwd):\n",
    "    pass\n",
    "def changePassword(ursename,passwd):\n",
    "    pass"
   ]
  }
 ],
 "metadata": {
  "kernelspec": {
   "display_name": "Python 3",
   "language": "python",
   "name": "python3"
  },
  "language_info": {
   "codemirror_mode": {
    "name": "ipython",
    "version": 3
   },
   "file_extension": ".py",
   "mimetype": "text/x-python",
   "name": "python",
   "nbconvert_exporter": "python",
   "pygments_lexer": "ipython3",
   "version": "3.6.8"
  }
 },
 "nbformat": 4,
 "nbformat_minor": 2
}
